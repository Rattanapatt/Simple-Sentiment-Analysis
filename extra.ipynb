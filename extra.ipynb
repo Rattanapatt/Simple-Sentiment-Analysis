{
 "cells": [
  {
   "cell_type": "markdown",
   "metadata": {},
   "source": [
    "# Load the book"
   ]
  },
  {
   "cell_type": "code",
   "execution_count": 114,
   "metadata": {},
   "outputs": [],
   "source": [
    "with open(\"miracle_in_the_andes.txt\", \"r\", encoding=\"UTF-8\") as file:\n",
    "    book = file.read()"
   ]
  },
  {
   "cell_type": "markdown",
   "metadata": {},
   "source": [
    "# Extract the paragrapth where \"love\" was used"
   ]
  },
  {
   "cell_type": "code",
   "execution_count": 115,
   "metadata": {},
   "outputs": [],
   "source": [
    "import re\n",
    "pattern = re.compile(\"[^\\n]+love[^\\n]+\")\n",
    "findings = re.findall(pattern, book)"
   ]
  },
  {
   "cell_type": "code",
   "execution_count": 116,
   "metadata": {},
   "outputs": [
    {
     "name": "stdout",
     "output_type": "stream",
     "text": [
      "These are 10 paragraphs where 'love' was used.\n",
      "\n",
      "Paragraph number 1\n",
      "To me, this is the essence of rugby. No other sport gives you such an intense sense of selflessness and unified purpose. I believe this is why rugby players all over the world feel such a passion for the game and such a feeling of brotherhood. As a young man, of course, I could not put these things into words, but I knew, and my teammates knew, that there was something special about the game, and under the guidance of the Christian Brothers we developed a passionate love for the sport that shaped our friendships and our lives. For eight years we played our hearts out for the Christian Brothers—a brotherhood of young boys with Latin names, playing a game with deep Anglo roots under Uruguay’s sunny skies, and proudly wearing the bright green shamrock on our uniforms. The game became so much a part of our lives, in fact, that when we graduated from Stella Maris at the age of sixteen, many of us could not bear the thought that our playing days were over. Our salvation came in the form of the Old Christians Club, a private rugby team formed in 1965 by previous alumni of the Stella Maris rugby program to give Stella Maris ruggers a chance to continue playing the game after our school years ended.\n",
      "\n",
      "Paragraph number 2\n",
      "There were others—Alexis Hounie, Gastón Costemalle, Daniel Shaw—all of them great players and all of them my friends. But my oldest friend was Guido Magri. He and I had met on my first day at the Stella Maris School—I was eight years old and Guido was one year older—and we had been inseparable ever since. Guido and I grew up together, playing soccer and sharing a love of motorcycles, cars, and auto racing. When I was fifteen we both had mopeds that we had modified in silly ways—removing the mufflers, turn signals, and fenders—and we would ride them to Las Delicias, a famous ice cream parlor in our neighborhood, where we would drool over the girls from the nearby School Sagrado Corazón, hoping to impress them with our souped-up scooters. Guido was a dependable friend, with a good sense of humor and an easy laugh. He was also an outstanding scrum half, as quick and smart as a fox, with good hands and great courage. Under the guidance of the Christian Brothers, both of us grew to love the game of rugby with a consuming passion. As seasons passed we worked hard to improve our skills, and by the time I was fifteen we had each earned a spot on the Stella Maris First XV, the team’s starting lineup. After graduation, both of us went on to join the Old Christians and spent several happy seasons pursuing the high-octane social life of young rugby players. That rowdiness came to an abrupt end for Guido in 1969, when he met and fell in love with the beautiful daughter of a Chilean diplomat. She was now his fiancée, and he was happy to behave himself for her sake.\n",
      "\n",
      "Paragraph number 3\n",
      "I always laughed when he talked this way, but I could not ignore the hidden streak of anger and sadness that those questions revealed. I did not judge him for this, because I knew it was all the result of a broken heart. Panchito’s parents had divorced when he was fourteen years old. It was a disaster that had wounded him in ways he could not heal and had left him with much resentment. He had two brothers, and a stepbrother from his father’s previous marriage, but still, there was something missing for him. I believe he had a great hunger for the love and comforts of a family that was happy and whole. In any case, it did not take me long to realize that despite all the natural gifts he had been blessed with, all the things I envied him for, he envied me more for the one thing I had that he could only dream of—my sisters, my grandmother, my mother and father, all of us together in a close and happy home.\n",
      "\n",
      "Paragraph number 4\n",
      "But to me, Panchito was more a brother than a friend, and my family felt the same about him. From the moment they met, my father and mother embraced Panchito as a son, and gave him no other choice but to think of our home as his own. Panchito warmly accepted this invitation, and soon he was a natural part of our world. He spent weekends with us, traveled with us, was a part of all our holidays and family celebrations. He shared, with my father and me, a love for cars and driving, and he loved going with us to auto races. To Susy, he was a second big brother. My mother had a special affection for him. I remember that he would boost himself up on the kitchen counter while she cooked, and they would talk for hours. Often she would tease him about his obsession with girls. “It’s all you think about,” she would say. “When are you going to grow up?”\n",
      "\n",
      "Paragraph number 5\n",
      "I could see much strength and depth in Panchito, in his loyalty as a friend to me, in the fiercely protective way he watched out for Susy, in the quiet respect he showed my parents, even in the affection with which he treated the servants at his father’s house, who loved him like a son. More than anything, though, I saw in him a man who wanted nothing more in life than the joys of a happy family. I knew his heart. I could see his future. He would meet the woman who would tame him. He would become a good husband and a loving father. I would marry, too. Our families would be like one; our children would grow up together. We never spoke of these things, of course—we were boys in our teens—but I think he knew I understood these things about him, and I think that knowledge strengthened the bonds of our friendship.\n",
      "\n",
      "Paragraph number 6\n",
      "In 1945 that future became richer when Seler married my mother, Eugenia. She was just as ambitious and independent as he was, and from the very start they were more than a married couple; they were a strong team who shared a bright vision of the future. Like my father, Eugenia had struggled through a difficult youth. In 1939, when she was sixteen years old, she had emigrated from the Ukraine, with her parents and grandmother, to escape the ravages of World War II. Her parents, beekeepers in the Ukraine, settled in the Uruguayan countryside and managed a modest living by raising bees and selling honey. It was a life of hard work and limited opportunity, so, when she was twenty, Eugenia moved to Montevideo, like my father, to seek a better future. She had a clerical job at a large medical laboratory in the city when she married my father, and at first she helped out at the hardware store only in her spare time. In the early days of their marriage, they struggled. Money was so tight that they could not afford furniture, and they began their lives together in an empty apartment. But eventually their hard work paid off, and the hardware store began to turn a profit. By the time my older sister, Graciela, was born in 1947, my mother was able to quit her job at the laboratory and work full-time with my father. I came along in 1949. Susy followed three years later. By then, Eugenia had become a major force in the family business, and her hard work and business savvy had helped to give us a very nice standard of living. But despite the importance of her work, the center of my mother’s life was always her home and family. One day, when I was twelve, she announced that she had found the perfect house for us in Carrasco, one of Montevideo’s finest residential districts. I’ll never forget the look of happiness in her eyes as she described the house: it was a modern, two-story home near the beach, she said, with big windows and large bright rooms, broad lawns and a breezy veranda. The house had a beautiful view of the sea, and this more than anything made my mother love it. I still remember the delight in her voice when she told us, “We can watch the sunset over the water!” Her blue eyes were shining with tears. She had started out with so little, and now she had found her dream house, a place that would be home for a lifetime.\n",
      "\n",
      "Paragraph number 7\n",
      "Once, for example, as part of a Rotary Club expedition, my mother escorted fifteen young children from Carrasco on a weekend visit to Buenos Aires. Hours after they arrived, a military coup erupted in that city, with the purpose of toppling the Argentine government. Chaos reigned in the streets, and the phone at our house rang off the hook with calls from worried parents wanting to know if their children were safe. Again and again I heard my father reassure them, with total confidence in his voice, saying, “They are with Xenia, they will be all right.” And they were all right, thanks to the efforts of my mother. It was near midnight. Buenos Aires was no longer safe, and my mother knew the last ferry to Montevideo would be leaving in minutes, so she phoned the ferry company and persuaded the jittery pilots to hold the last departure until she arrived with the children. Then she gathered all the kids and their things and led them through the unsettled streets of Buenos Aires to the dark waterfront where the ferry was docked. They all boarded safely, and the ferry set off just after 3:00 a.m., three hours after its scheduled departure. She was a true tower of strength, but her strength was always based in warmth and love and because of her love and protection I grew up believing the world was a safe, familiar place.\n",
      "\n",
      "Paragraph number 8\n",
      "By the time I was in high school my parents owned three large, thriving hardware stores in Uruguay. My father was also importing merchandise from all over the world and wholesaling it to smaller hardware stores across South America. The poor country boy from Estación Gonzales had come a long way in life, and I think this gave him a great sense of satisfaction, but there was never a doubt in my mind that he had done it all for us. He had given us a life of comfort and privilege such as his own father never could have imagined, he had provided for us and protected us in the best way he could, and though he was not an emotionally expressive man, he always showed his love for us subtly, quietly, and in ways that were true to the man he was. When I was small, he would take me to the hardware store, walk me along the shelves, and patiently share with me the secrets of all the shiny merchandise on which our family’s prosperity had been founded: This is a toggle bolt, Nando. You use this to fasten things to a hollow wall. This is a grommet—it reinforces a hole in a canvas tarp so you can thread a rope through it to tie it down. This is an anchor bolt. This is a carriage bolt. These are wing nuts. Here is where we keep the washers—split washers, lock washers, ring washers, and flat washers in every size. We have lag screws, Phillips head screws, slotted screws, machine screws, wood screws, self-tapping screws … there are common nails, finish nails, roofing nails, ring-shank nails, box nails, masonry nails, double-headed nails, more kinds of nails than you can imagine.…\n",
      "\n",
      "Paragraph number 9\n",
      "These were precious moments for me. I loved the gentle seriousness with which he shared his knowledge, and it made me feel close to him to know he thought I was a big enough boy to be trusted with this knowledge. In fact, he wasn’t simply playing, he was teaching me the things I would need to know to help him at the store. But even as a kid I sensed he was teaching me a deeper lesson: that life is orderly, life makes sense. See, Nando, for every job there is the right nut or bolt or hinge or tool. Whether he intended it or not, he was teaching me the great lesson his years of struggle had taught him: Don’t let your head get lost in the clouds. Pay attention to the details, to the nuts-and-bolts realities of things. You can’t build a life on a foundation of dreams and wishes. A good life isn’t plucked from the sky. You build a life up from the ground, with hard work and clear thinking. Things make sense. There are rules and realities that will not change to suit your needs. It’s your job to understand those rules. If you do, and if you work hard and work smart, you will be all right.\n",
      "\n",
      "Paragraph number 10\n",
      "I COULDN’T HELP thinking of my father as the Fairchild flew above the Andes. He had dropped us off at the airport in Montevideo when our trip first began. “Have fun,” he said. “I will pick you up on Monday.” He kissed my mother and my sister, gave me a warm embrace, and then turned to go back to the office, to the orderly, predictable world in which he thrived. While we had fun in Chile he would do what he always did: solve problems, take care of things, work hard, provide. Out of love for his family he had arranged in his mind a future that would keep us all safe, happy, and always together. He had planned well and paid attention to all the details. The Parrados would always be fortunate people. He believed in this so firmly, and our trust for him was so strong, how could we ever doubt him?\n",
      "\n"
     ]
    }
   ],
   "source": [
    "# Pick the sample\n",
    "print(\"These are 10 paragraphs where 'love' was used.\")\n",
    "print()\n",
    "index = 1\n",
    "for finding in findings[:10]:\n",
    "    print(f\"Paragraph number {index}\")\n",
    "    print(finding)\n",
    "    print()\n",
    "    index += 1"
   ]
  },
  {
   "cell_type": "markdown",
   "metadata": {},
   "source": [
    "# Extract the Chapter title"
   ]
  },
  {
   "cell_type": "code",
   "execution_count": 117,
   "metadata": {},
   "outputs": [],
   "source": [
    "pattern = re.compile(\"Chapter [0-9]+\\n\\\\n([a-zA-Z ]+)[^\\n]*\") # The (parenthesis) will tells the regex to show only what are in it.\n",
    "findings = re.findall(pattern, book)"
   ]
  },
  {
   "cell_type": "code",
   "execution_count": 118,
   "metadata": {},
   "outputs": [
    {
     "name": "stdout",
     "output_type": "stream",
     "text": [
      "These are the Chapter title.\n",
      "\n",
      "Chapter 1\n",
      "Before\n",
      "\n",
      "Chapter 1\n",
      "Everything Precious\n",
      "\n",
      "Chapter 1\n",
      "A Promise\n",
      "\n",
      "Chapter 1\n",
      "Breathe Once More\n",
      "\n",
      "Chapter 1\n",
      "Abandoned\n",
      "\n",
      "Chapter 1\n",
      "Tomb\n",
      "\n",
      "Chapter 1\n",
      "East\n",
      "\n",
      "Chapter 1\n",
      "The Opposite of Death\n",
      "\n",
      "Chapter 1\n",
      "I See a Man\n",
      "\n",
      "Chapter 1\n",
      "After\n",
      "\n"
     ]
    }
   ],
   "source": [
    "print(f\"These are the Chapter title.\")\n",
    "print()\n",
    "index = 1\n",
    "for finding in findings:\n",
    "    print(f\"Chapter {index}\")\n",
    "    print(finding)\n",
    "    print()"
   ]
  },
  {
   "cell_type": "markdown",
   "metadata": {},
   "source": [
    "# Function that finds the occurence of any word"
   ]
  },
  {
   "cell_type": "code",
   "execution_count": 119,
   "metadata": {},
   "outputs": [],
   "source": [
    "def find_occur(word):\n",
    "    try:\n",
    "        words = dict()\n",
    "        pattern = re.compile(\"[a-zA-Z]+\")\n",
    "        finding = re.findall(pattern, book.lower())\n",
    "        \n",
    "        # Storing all words\n",
    "        for a_word in finding:\n",
    "            if a_word in words.keys():\n",
    "                words[a_word] += 1\n",
    "            else:\n",
    "                words[a_word] = 1\n",
    "                \n",
    "        occur = words[word.lower()]\n",
    "    except:\n",
    "        occur = 0\n",
    "    \n",
    "    print(f\"The word '{word}' occur for {occur} times in the book.\")\n",
    "    \n",
    "    return "
   ]
  },
  {
   "cell_type": "markdown",
   "metadata": {},
   "source": [
    "# Call the function"
   ]
  },
  {
   "cell_type": "code",
   "execution_count": 120,
   "metadata": {},
   "outputs": [
    {
     "name": "stdout",
     "output_type": "stream",
     "text": [
      "The word 'Heaven' occur for 3 times in the book.\n"
     ]
    }
   ],
   "source": [
    "find_occur(\"Heaven\")"
   ]
  },
  {
   "cell_type": "code",
   "execution_count": 121,
   "metadata": {},
   "outputs": [
    {
     "name": "stdout",
     "output_type": "stream",
     "text": [
      "The word 'Hell' occur for 6 times in the book.\n"
     ]
    }
   ],
   "source": [
    "find_occur(\"Hell\")"
   ]
  }
 ],
 "metadata": {
  "kernelspec": {
   "display_name": ".venv",
   "language": "python",
   "name": "python3"
  },
  "language_info": {
   "codemirror_mode": {
    "name": "ipython",
    "version": 3
   },
   "file_extension": ".py",
   "mimetype": "text/x-python",
   "name": "python",
   "nbconvert_exporter": "python",
   "pygments_lexer": "ipython3",
   "version": "3.12.4"
  }
 },
 "nbformat": 4,
 "nbformat_minor": 2
}
